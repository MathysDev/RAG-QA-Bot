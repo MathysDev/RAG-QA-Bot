{
 "cells": [
  {
   "cell_type": "code",
   "execution_count": 1,
   "id": "ea9d72f4",
   "metadata": {},
   "outputs": [
    {
     "name": "stdout",
     "output_type": "stream",
     "text": [
      "Type of data: <class 'numpy.ndarray'>\n",
      "Shape of data: (20682,)\n",
      "First 5 entries: [{'text': 'Statuten derSpar- und LeihkasseThayngen AGvom 4. Ap\\n', 'filename': '[1.00] Statuten.pdf-0.txt', 'embedding': array([ 0.02131794,  0.00610992, -0.01190408, ..., -0.04108637,\n",
      "        -0.03741242, -0.0086709 ], dtype=float32)}\n",
      " {'text': 'ril 2014', 'filename': '[1.00] Statuten.pdf-0.txt', 'embedding': array([-0.00698334,  0.02212454,  0.01060402, ..., -0.00770698,\n",
      "        -0.04095607,  0.02020136], dtype=float32)}\n",
      " {'text': 'Inhaltsverzeichnis Statuten, Seite 1Inhaltsverzeichnis StatutenI.\\n', 'filename': '[1.00] Statuten.pdf-1.txt', 'embedding': array([ 2.1966878e-02, -1.6252955e-02, -2.8359318e-05, ...,\n",
      "        -2.6081806e-02, -3.7221465e-02, -1.5328514e-03], dtype=float32)}\n",
      " {'text': 'Firma, Sitz und Zweck 1Art. \\n', 'filename': '[1.00] Statuten.pdf-1.txt', 'embedding': array([ 0.00856925,  0.00438295, -0.01937354, ..., -0.02567353,\n",
      "        -0.0732483 , -0.01434034], dtype=float32)}\n",
      " {'text': '1Firma, Dauer 1Art. \\n', 'filename': '[1.00] Statuten.pdf-1.txt', 'embedding': array([ 0.00524681,  0.00850776, -0.01191736, ..., -0.01479746,\n",
      "        -0.07258003, -0.00495828], dtype=float32)}                                                                                                       ]\n"
     ]
    }
   ],
   "source": [
    "import numpy as np\n",
    "\n",
    "# Load the data from the .npy file\n",
    "data = np.load(r'Documents\\text.npy', allow_pickle=True)\n",
    "\n",
    "# Analyze the data\n",
    "print(\"Type of data:\", type(data))\n",
    "print(\"Shape of data:\", getattr(data, 'shape', 'No shape attribute'))\n",
    "print(\"First 5 entries:\", data[:5])"
   ]
  }
 ],
 "metadata": {
  "kernelspec": {
   "display_name": "base",
   "language": "python",
   "name": "python3"
  },
  "language_info": {
   "codemirror_mode": {
    "name": "ipython",
    "version": 3
   },
   "file_extension": ".py",
   "mimetype": "text/x-python",
   "name": "python",
   "nbconvert_exporter": "python",
   "pygments_lexer": "ipython3",
   "version": "3.12.4"
  }
 },
 "nbformat": 4,
 "nbformat_minor": 5
}
